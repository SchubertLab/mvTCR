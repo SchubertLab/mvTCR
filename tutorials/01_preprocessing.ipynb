{
 "cells": [
  {
   "cell_type": "markdown",
   "id": "628ac26e",
   "metadata": {},
   "source": [
    "# mvTCR Preprocessing\n",
    "mvTCR uses a specific format to handle single-cell data, which is based on AnnData objects. If not otherwise stated, we follow the speficition from Scanpy [1] and Scirpy [2]. However, we need some additional information to utilize all functions of mvTCR. In this notebook, we will show how to add these to various places in the AnnData object.\n",
    "\n",
    "All experiments in our paper where conducted on Datasets:\n",
    "- after Quality Control (cell filtering, doublet detection, ...)\n",
    "- with normalized and log+1 transformed count data\n",
    "\n",
    "We will assume, that these steps have already been performed. For further reference, please see Luecken et al [3].\n",
    "\n",
    "[1] Wolf, F. A., Angerer, P. & Theis, F. J. Scanpy: large-scale single-cell gene expression data analysis. Genome biology 19, 1–5 (2018).\n",
    "\n",
    "[2] Sturm, G. et al. Scirpy: a scanpy extension for analyzing single-cell t-cell receptor-sequencing data. Bioinformatics 36, 4817–4818 (2020).\n",
    "\n",
    "[3] Luecken, M. D. & Theis, F. J. Current best practices in single-cell rna-seq analysis: a tutorial.\n",
    "Molecular systems biology 15, e8746 (2019)."
   ]
  },
  {
   "cell_type": "markdown",
   "id": "0ad7ea52",
   "metadata": {},
   "source": [
    "The remaining preprocessing is showcased on the dataset from Stephenson et al [4], since the preprocessed data can readily be downloaded from \n",
    "\n",
    "- https://covid19.cog.sanger.ac.uk/submissions/release1/haniffa21.processed.h5ad\n",
    "- https://www.ebi.ac.uk/arrayexpress/files/E-MTAB-10026/E-MTAB-10026.processed.2.zip\n",
    "\n",
    "\n",
    "[4] Stephenson, E. et al. Single-cell multi-omics analysis of the immune response in covid-19. Nature medicine 27, 904–916 (2021)."
   ]
  },
  {
   "cell_type": "code",
   "execution_count": 1,
   "id": "5eeef553",
   "metadata": {},
   "outputs": [],
   "source": [
    "import scanpy as sc\n",
    "import scirpy as ir\n",
    "import pandas as pd"
   ]
  },
  {
   "cell_type": "code",
   "execution_count": 2,
   "id": "11a6eab3",
   "metadata": {},
   "outputs": [],
   "source": [
    "path_gex = '../data/Haniffa/haniffa21.processed.h5ad'\n",
    "path_tcr = '../data/Haniffa/TCR_merged-Updated'"
   ]
  },
  {
   "cell_type": "markdown",
   "id": "e23d1c48",
   "metadata": {},
   "source": [
    "We will load the transcriptome data. To speed up runtime, we will downsample the data to two patients."
   ]
  },
  {
   "cell_type": "code",
   "execution_count": 3,
   "id": "86347112",
   "metadata": {},
   "outputs": [],
   "source": [
    "adata = sc.read(path_gex)"
   ]
  },
  {
   "cell_type": "code",
   "execution_count": 4,
   "id": "4d6ea7ab",
   "metadata": {},
   "outputs": [],
   "source": [
    "selected_patients = ['AP1', 'CV0062']\n",
    "adata = adata[adata.obs['patient_id'].isin(selected_patients)].copy()"
   ]
  },
  {
   "cell_type": "markdown",
   "id": "1b798127",
   "metadata": {},
   "source": [
    "All models have been trained on the 5000 most highly variable genes:"
   ]
  },
  {
   "cell_type": "code",
   "execution_count": 5,
   "id": "c886b655",
   "metadata": {},
   "outputs": [
    {
     "name": "stderr",
     "output_type": "stream",
     "text": [
      "C:\\Users\\felix.drost\\Anaconda3\\envs\\mvtcr_4\\lib\\site-packages\\scanpy\\preprocessing\\_highly_variable_genes.py:208: RuntimeWarning: invalid value encountered in log\n",
      "  dispersion = np.log(dispersion)\n"
     ]
    },
    {
     "name": "stdout",
     "output_type": "stream",
     "text": [
      "Shape:  (8811, 24929)\n"
     ]
    }
   ],
   "source": [
    "sc.pp.highly_variable_genes(adata, n_top_genes=5000)\n",
    "print('Shape: ', adata.shape)"
   ]
  },
  {
   "cell_type": "markdown",
   "id": "b876dfc6",
   "metadata": {},
   "source": [
    "## Adding TCR information\n",
    "Next, we load the TCR information. We will fuse it using Scirpy:"
   ]
  },
  {
   "cell_type": "code",
   "execution_count": 6,
   "id": "9e8f41fd",
   "metadata": {},
   "outputs": [
    {
     "name": "stderr",
     "output_type": "stream",
     "text": [
      "C:\\Users\\felix.drost\\Anaconda3\\envs\\mvtcr_4\\lib\\site-packages\\IPython\\core\\interactiveshell.py:3172: DtypeWarning: Columns (38,39,40) have mixed types.Specify dtype option on import or set low_memory=False.\n",
      "  has_raised = await self.run_ast_nodes(code_ast.body, cell_name,\n"
     ]
    }
   ],
   "source": [
    "df_tcr = pd.read_csv(f'{path_tcr}.tsv', sep='\\t')\n",
    "df_tcr['barcode'] = df_tcr.pop('CellID') \n",
    "\n",
    "df_tcr = df_tcr[df_tcr['study_id'].isin(selected_patients)]\n",
    "\n",
    "df_tcr.to_csv(f'{path_tcr}.csv')"
   ]
  },
  {
   "cell_type": "code",
   "execution_count": 7,
   "id": "890f3026",
   "metadata": {},
   "outputs": [
    {
     "name": "stderr",
     "output_type": "stream",
     "text": [
      "WARNING: Non-standard locus name ignored: Multi \n"
     ]
    }
   ],
   "source": [
    "adata_tcr = ir.io.read_10x_vdj(f'{path_tcr}.csv')\n",
    "ir.pp.merge_with_ir(adata, adata_tcr)"
   ]
  },
  {
   "cell_type": "markdown",
   "id": "dfc4eb08",
   "metadata": {},
   "source": [
    "mvTCR requires paired data between TCR and GEX. So, we remove all samples without a TRA or TRB CDR3 region."
   ]
  },
  {
   "cell_type": "code",
   "execution_count": 8,
   "id": "9044bab7",
   "metadata": {},
   "outputs": [
    {
     "name": "stdout",
     "output_type": "stream",
     "text": [
      "8811\n",
      "4227\n"
     ]
    }
   ],
   "source": [
    "print(len(adata))\n",
    "adata = adata[~adata.obs['IR_VDJ_1_junction_aa'].isna()]\n",
    "adata = adata[~adata.obs['IR_VJ_1_junction_aa'].isna()].copy()\n",
    "print(len(adata))"
   ]
  },
  {
   "cell_type": "markdown",
   "id": "22172eaf",
   "metadata": {},
   "source": [
    "For training the shared embedding, we advise oversampling rare clonotypes. This avoids the model overfitting to few selected TCR sequences from highly expanded clonotypes. Therefore, we need to add a clonotype label to adata.obs. Here, we define a unique clonotype via Scirpy as having exactly the same CDR3 sequence in TRA and TRB chains."
   ]
  },
  {
   "cell_type": "code",
   "execution_count": 9,
   "id": "89164211",
   "metadata": {},
   "outputs": [
    {
     "name": "stderr",
     "output_type": "stream",
     "text": [
      "100%|█████████████████████████████████████████████████████████████████████████████| 4049/4049 [00:15<00:00, 267.09it/s]\n"
     ]
    }
   ],
   "source": [
    "ir.tl.chain_qc(adata)\n",
    "ir.pp.ir_dist(adata)\n",
    "ir.tl.define_clonotypes(adata, key_added='clonotype', receptor_arms='all', dual_ir='primary_only')"
   ]
  },
  {
   "cell_type": "markdown",
   "id": "6a7da9e9",
   "metadata": {},
   "source": [
    "Next, we encode the TCR sequence numerically to adata.obsm. Here, we need to provide the name of the column storing the CDR3a and CDR3b. Additionally, we need to specificy the padding paremter. For data analysis, we use the maximal CDR3 sequence length. If you plan to add new data in the future via a pretrained model, you might want to add some safety margin."
   ]
  },
  {
   "cell_type": "code",
   "execution_count": 10,
   "id": "4cb6e5ec",
   "metadata": {},
   "outputs": [],
   "source": [
    "import sys\n",
    "sys.path.append('..')\n",
    "from tcr_embedding.utils_preprocessing import encode_tcr\n",
    "\n",
    "len_beta = adata.obs['IR_VDJ_1_junction_aa'].str.len().max()\n",
    "len_alpha= adata.obs['IR_VJ_1_junction_aa'].str.len().max()\n",
    "pad = max(len_beta, len_alpha)\n",
    "\n",
    "encode_tcr(adata, 'IR_VJ_1_junction_aa', 'IR_VDJ_1_junction_aa', pad)"
   ]
  },
  {
   "cell_type": "markdown",
   "id": "f1f98fa6",
   "metadata": {},
   "source": [
    "## Adding conditional variables\n",
    "Conditioning your model partially removes the effect from a specified condition. We can add conditional variables for e.g. Patient, to avoid batch effects over multiple samples."
   ]
  },
  {
   "cell_type": "code",
   "execution_count": 11,
   "id": "ffe016d0",
   "metadata": {},
   "outputs": [],
   "source": [
    "from sklearn.preprocessing import OneHotEncoder"
   ]
  },
  {
   "cell_type": "code",
   "execution_count": 12,
   "id": "fea218d4",
   "metadata": {},
   "outputs": [],
   "source": [
    "enc = OneHotEncoder(sparse=False)\n",
    "enc.fit(adata.obs['patient_id'].to_numpy().reshape(-1, 1))\n",
    "adata.obsm['patient_id'] = enc.transform(adata.obs['patient_id'].to_numpy().reshape(-1, 1))\n",
    "adata.uns['patient_id_enc'] = enc.categories_"
   ]
  },
  {
   "cell_type": "markdown",
   "id": "a88151ea",
   "metadata": {},
   "source": [
    "## Saving the data\n",
    "Finally, we save the data to a compressed h5ad file. To check, whether everything worked out, we will load if again afterwards."
   ]
  },
  {
   "cell_type": "code",
   "execution_count": 13,
   "id": "d8874275",
   "metadata": {},
   "outputs": [
    {
     "name": "stderr",
     "output_type": "stream",
     "text": [
      "... storing 'receptor_type' as categorical\n",
      "... storing 'receptor_subtype' as categorical\n",
      "... storing 'chain_pairing' as categorical\n",
      "... storing 'clonotype' as categorical\n"
     ]
    }
   ],
   "source": [
    "path_out = '../data/Haniffa/haniffa_test.h5ad'\n",
    "adata.write_h5ad(path_out, compression='gzip')\n",
    "adata = sc.read(path_out)"
   ]
  },
  {
   "cell_type": "code",
   "execution_count": null,
   "id": "4750afd1",
   "metadata": {},
   "outputs": [],
   "source": []
  }
 ],
 "metadata": {
  "kernelspec": {
   "display_name": "Python [conda env:mvtcr_4]",
   "language": "python",
   "name": "conda-env-mvtcr_4-py"
  },
  "language_info": {
   "codemirror_mode": {
    "name": "ipython",
    "version": 3
   },
   "file_extension": ".py",
   "mimetype": "text/x-python",
   "name": "python",
   "nbconvert_exporter": "python",
   "pygments_lexer": "ipython3",
   "version": "3.8.8"
  }
 },
 "nbformat": 4,
 "nbformat_minor": 5
}
