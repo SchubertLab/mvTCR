{
 "cells": [
  {
   "cell_type": "markdown",
   "metadata": {},
   "source": [
    "# mvTCR Preprocessing\n",
    "mvTCR uses a specific format to handle single-cell data, which is based on AnnData objects. If not otherwise stated, we follow the speficition from Scanpy [1] and Scirpy [2]. However, we need some additional information to utilize all functions of mvTCR. In this notebook, we introduce the mvTCR preprocessing pipeline, which adds the required information to the corresponding place in the AnnData object.\n",
    "\n",
    "All experiments in our paper where conducted on Datasets:\n",
    "- after Quality Control (cell filtering, doublet detection, ...)\n",
    "- with normalized and log+1 transformed count data\n",
    "\n",
    "The pipeline assumes that these steps have already been performed. For further reference, please see Luecken et al [3].\n",
    "\n",
    "If you know what you are doing: different normalization, log-stabilizing transformations, etc. can also be used, but need to be handled with care!\n",
    "\n",
    "\n",
    "[1] Wolf, F. A., Angerer, P. & Theis, F. J. Scanpy: large-scale single-cell gene expression data analysis. Genome biology 19, 1–5 (2018).\n",
    "\n",
    "[2] Sturm, G. et al. Scirpy: a scanpy extension for analyzing single-cell t-cell receptor-sequencing data. Bioinformatics 36, 4817–4818 (2020).\n",
    "\n",
    "[3] Luecken, M. D. & Theis, F. J. Current best practices in single-cell rna-seq analysis: a tutorial.\n",
    "Molecular systems biology 15, e8746 (2019)."
   ]
  },
  {
   "cell_type": "markdown",
   "metadata": {},
   "source": [
    "## Prerequisits\n",
    "\n",
    "The preprocessing pipeline is showcased on the dataset from Stephenson et al. [4], which can be readily downloaded from:\n",
    "\n",
    "- https://covid19.cog.sanger.ac.uk/submissions/release1/haniffa21.processed.h5ad\n",
    "- https://www.ebi.ac.uk/biostudies/files/E-MTAB-10026/TCR_merged-Updated.tsv\n",
    "\n",
    "and is already quality-controled. \n",
    "\n",
    "[4] Stephenson, E. et al. Single-cell multi-omics analysis of the immune response in covid-19. Nature medicine 27, 904–916 (2021)."
   ]
  },
  {
   "cell_type": "markdown",
   "metadata": {},
   "source": [
    "\n",
    "The mvTCR preprocessing pipeline is taylored for mvTCR-usage and handles the encoding of clonotypes and conditional variables in the required format. However, it is necessary that the adata object is already log-normalized, subsetted to highly variable genes and contains scirpy-encoded TCR information. We demonstrate these steps below."
   ]
  },
  {
   "cell_type": "code",
   "execution_count": 3,
   "metadata": {},
   "outputs": [],
   "source": [
    "import scanpy as sc\n",
    "import scirpy as ir\n",
    "import pandas as pd\n",
    "import awkward as ak\n",
    "\n",
    "import warnings\n",
    "warnings.simplefilter(action='ignore', category=FutureWarning)"
   ]
  },
  {
   "cell_type": "code",
   "execution_count": 2,
   "metadata": {},
   "outputs": [],
   "source": [
    "path_gex = '../data/Haniffa/haniffa21.processed.h5ad'\n",
    "path_tcr = '../data/Haniffa/TCR_merged-Updated'"
   ]
  },
  {
   "cell_type": "markdown",
   "metadata": {},
   "source": [
    "We will load the transcriptome data. To speed up runtime, we will downsample the data to two patients."
   ]
  },
  {
   "cell_type": "code",
   "execution_count": 6,
   "metadata": {},
   "outputs": [],
   "source": [
    "adata = sc.read(path_gex)\n",
    "\n",
    "selected_patients = ['AP1', 'CV0062']\n",
    "adata = adata[adata.obs['patient_id'].isin(selected_patients)].copy()"
   ]
  },
  {
   "cell_type": "markdown",
   "metadata": {},
   "source": [
    "Before starting, we take the raw expression counts matrix, total-count normalize it to 10,000 reads per cell to correct for differences in library-size, and logarithmize it:"
   ]
  },
  {
   "cell_type": "code",
   "execution_count": 4,
   "metadata": {},
   "outputs": [
    {
     "name": "stdout",
     "output_type": "stream",
     "text": [
      "[[1. 0. 0. 0. 0. 1. 0. 0. 0.]\n",
      " [0. 0. 0. 0. 0. 2. 0. 0. 0.]\n",
      " [0. 0. 0. 0. 0. 0. 0. 0. 0.]\n",
      " [0. 0. 0. 0. 0. 0. 0. 0. 0.]]\n",
      "[[1.1596017 0.        0.        0.        0.        1.1596017 0.\n",
      "  0.        0.       ]\n",
      " [0.        0.        0.        0.        0.        1.52811   0.\n",
      "  0.        0.       ]\n",
      " [0.        0.        0.        0.        0.        0.        0.\n",
      "  0.        0.       ]\n",
      " [0.        0.        0.        0.        0.        0.        0.\n",
      "  0.        0.       ]]\n"
     ]
    }
   ],
   "source": [
    "adata.X = adata.layers['raw']\n",
    "print(adata.X[0:4,11:20].toarray())\n",
    "sc.pp.normalize_total(adata, target_sum=1e4)\n",
    "sc.pp.log1p(adata)\n",
    "print(adata.X[0:4,11:20].toarray())"
   ]
  },
  {
   "cell_type": "markdown",
   "metadata": {},
   "source": [
    "To keep the most informative genes, we subset our matrix to the 5000 highest-variable genes. This number can be changed based on the expected variation, and noisy or technical-artifact related genes can be excluded based on prior knowledge."
   ]
  },
  {
   "cell_type": "code",
   "execution_count": 5,
   "metadata": {},
   "outputs": [
    {
     "name": "stdout",
     "output_type": "stream",
     "text": [
      "Shape before:  (8811, 24929)\n",
      "Shape after:  (8811, 5000)\n"
     ]
    }
   ],
   "source": [
    "print('Shape before: ', adata.shape)\n",
    "sc.pp.highly_variable_genes(adata, n_top_genes=5000)\n",
    "adata = adata[:, adata.var['highly_variable']]\n",
    "print('Shape after: ', adata.shape)"
   ]
  },
  {
   "cell_type": "markdown",
   "metadata": {},
   "source": [
    "Next we add the required TCR information as scirpy formatted covariates in the obs matrix:"
   ]
  },
  {
   "cell_type": "code",
   "execution_count": 6,
   "metadata": {},
   "outputs": [
    {
     "name": "stderr",
     "output_type": "stream",
     "text": [
      "C:\\Users\\Jan\\AppData\\Local\\Temp\\ipykernel_25604\\656390862.py:1: DtypeWarning: Columns (38,39,40) have mixed types. Specify dtype option on import or set low_memory=False.\n",
      "  df_tcr = pd.read_csv(f'{path_tcr}.tsv', sep='\\t')\n"
     ]
    }
   ],
   "source": [
    "df_tcr = pd.read_csv(f'{path_tcr}.tsv', sep='\\t')\n",
    "df_tcr['barcode'] = df_tcr.pop('CellID') # change cell IDs column name to \"barcode\"\n",
    "df_tcr = df_tcr[df_tcr['study_id'].isin(selected_patients)] # keep only selected patients\n",
    "df_tcr.to_csv(f'{path_tcr}.csv')"
   ]
  },
  {
   "cell_type": "code",
   "execution_count": 7,
   "metadata": {},
   "outputs": [
    {
     "name": "stdout",
     "output_type": "stream",
     "text": [
      "WARNING: Non-standard locus name: Multi \n"
     ]
    },
    {
     "name": "stderr",
     "output_type": "stream",
     "text": [
      "c:\\Users\\Jan\\.conda\\envs\\mvtcr_020\\lib\\site-packages\\anndata\\utils.py:334: ExperimentalFeatureWarning: Support for Awkward Arrays is currently experimental. Behavior may change in the future. Please report any issues you may encounter!\n",
      "  warnings.warn(msg, category, stacklevel=stacklevel)\n",
      "C:\\Users\\Jan\\AppData\\Local\\Temp\\ipykernel_25604\\1760237386.py:6: ImplicitModificationWarning: Setting element `.obsm['airr']` of view, initializing view as actual.\n",
      "  adata.obsm[\"airr\"] = adata_tcr.obsm[\"airr\"][idx]\n"
     ]
    }
   ],
   "source": [
    "adata_tcr = ir.io.read_10x_vdj(f'{path_tcr}.csv') # load with scirpy\n",
    "\n",
    "barcode2idx = {barcode: i for i, barcode in enumerate(adata_tcr.obs_names)}\n",
    "idx = [barcode2idx.get(barcode) for barcode in adata.obs_names]\n",
    "\n",
    "adata.obsm[\"airr\"] = adata_tcr.obsm[\"airr\"][idx]\n",
    "adata = adata[~ak.is_none(adata.obsm['airr']).to_numpy()]"
   ]
  },
  {
   "cell_type": "markdown",
   "metadata": {},
   "source": [
    "Lets index the chains"
   ]
  },
  {
   "cell_type": "code",
   "execution_count": 8,
   "metadata": {},
   "outputs": [
    {
     "name": "stderr",
     "output_type": "stream",
     "text": [
      "c:\\Users\\Jan\\.conda\\envs\\mvtcr_020\\lib\\site-packages\\scirpy\\pp\\_index_chains.py:259: ImplicitModificationWarning: Setting element `.obsm['chain_indices']` of view, initializing view as actual.\n",
      "  params.adata.obsm[key_added] = ak.zip(res, depth_limit=1)  # type: ignore\n"
     ]
    }
   ],
   "source": [
    "ir.pp.index_chains(adata)"
   ]
  },
  {
   "cell_type": "markdown",
   "metadata": {},
   "source": [
    "mvTCR requires paired data between TCR and GEX. Therefore, we remove all samples without a TRA or TRB CDR3 region."
   ]
  },
  {
   "cell_type": "code",
   "execution_count": 9,
   "metadata": {},
   "outputs": [
    {
     "name": "stdout",
     "output_type": "stream",
     "text": [
      "5395\n",
      "4227\n"
     ]
    }
   ],
   "source": [
    "print(len(adata))\n",
    "junction_aa = ir.get.airr(adata, \"junction_aa\")\n",
    "adata = adata[~(junction_aa['VJ_1_junction_aa'].isna() | junction_aa['VDJ_1_junction_aa'].isna())]\n",
    "print(len(adata))"
   ]
  },
  {
   "cell_type": "markdown",
   "metadata": {},
   "source": [
    "## mvTCR preprocessing"
   ]
  },
  {
   "cell_type": "code",
   "execution_count": 11,
   "metadata": {},
   "outputs": [],
   "source": [
    "from mvtcr.utils_preprocessing import Preprocessing"
   ]
  },
  {
   "cell_type": "markdown",
   "metadata": {},
   "source": [
    "## All-in-one Pipeline\n",
    "\n",
    "After we have a fitting dataset containing scirpy-encoded TCR information and expression data we can use mvTCR's preprocessing methods to further bring our data into shape.\n",
    "The preprocessing pipeline is the fast way to do that your data. \n",
    "\n",
    "This features (in order):\n",
    "\n",
    "- Checks for:\n",
    "    - Normalization & log transformation checks (experimental)\n",
    "    - \"Reasonable\" number of highly variable genes check (500 < n < 5000)\n",
    "    - Scirpy VDJ gene usage information check\n",
    "- Encoding of clonotypes\n",
    "- Encoding of TCR\n",
    "- One-Hot encoding of conditional variables\n",
    "- Group-shuffle-splits (into train & validation datasets)\n",
    "\n",
    "The required parameters and expected outputs of each step are explained in detail in the piece by piece preprocessing section below.\n",
    "\n",
    "Please note: If you are using MuData object please convert it into an AnnData object where the AIRR data is stored in obsm under \"airr\". We offer a conversion function to do so at the end of this notebook."
   ]
  },
  {
   "cell_type": "code",
   "execution_count": null,
   "metadata": {},
   "outputs": [],
   "source": [
    "Preprocessing.preprocessing_pipeline(adata, \n",
    "                                     clonotype_key_added='clonotype', \n",
    "                                     airr_name='junction_aa',\n",
    "                                     cond_vars=['patient_id'],\n",
    "                                     group_col='clonotype', \n",
    "                                     val_split=0.2)"
   ]
  },
  {
   "cell_type": "code",
   "execution_count": null,
   "metadata": {},
   "outputs": [],
   "source": [
    "adata.obs.set.value_counts()"
   ]
  },
  {
   "cell_type": "markdown",
   "metadata": {},
   "source": [
    "# Piece by Piece Preprocessing\n",
    "\n",
    "All the features inside the pipeline can be executed seperately as well, to perform a step-by-setp preprocessing or only specific methods.\n",
    "\n",
    "Make sure to freshly load the data if you have used the pipeline."
   ]
  },
  {
   "cell_type": "markdown",
   "metadata": {},
   "source": [
    "### Checking if adata is in a mvTCR compatible shape"
   ]
  },
  {
   "cell_type": "code",
   "execution_count": 16,
   "metadata": {},
   "outputs": [
    {
     "name": "stderr",
     "output_type": "stream",
     "text": [
      "WARNING:root:Only highly-variable genes found in adata. Make sure they are properly normalized before proceeding!\n"
     ]
    },
    {
     "data": {
      "text/plain": [
       "True"
      ]
     },
     "execution_count": 16,
     "metadata": {},
     "output_type": "execute_result"
    }
   ],
   "source": [
    "Preprocessing.check_if_valid_adata(adata)"
   ]
  },
  {
   "cell_type": "markdown",
   "metadata": {},
   "source": [
    "### Encoding clonotypes with Scirpy\n",
    "\n",
    "For training the shared embedding, we advise oversampling rare clonotypes. This avoids the model overfitting to few selected TCR sequences from highly expanded clonotypes. Therefore, we need to add a clonotype label to adata.obs. Here, we define a unique clonotype via Scirpy as having exactly the same CDR3 sequence in TRA and TRB chains."
   ]
  },
  {
   "cell_type": "code",
   "execution_count": null,
   "metadata": {},
   "outputs": [],
   "source": [
    "Preprocessing.encode_clonotypes(adata, key_added='clonotype')\n",
    "\n",
    "adata.obs.clonotype.value_counts()"
   ]
  },
  {
   "cell_type": "markdown",
   "metadata": {},
   "source": [
    "### Adding TCR encoding\n",
    "\n",
    "Next, we encode the TCR sequence numerically to adata.obsm. Here, we need to provide the name of the column storing the CDR3a and CDR3b. Additionally, we need to specificy the padding paremter (which if set to None uses the maximal CDR3 sequence length as default). If you plan to add new data in the future via a pretrained model, you might want to add some safety margin."
   ]
  },
  {
   "cell_type": "code",
   "execution_count": 18,
   "metadata": {},
   "outputs": [
    {
     "data": {
      "text/plain": [
       "array([[ 2,  1,  1, 18, 12, 12, 12,  1,  6, 12, 11, 10, 17,  5,  0,  0,\n",
       "         0,  0,  0,  0,  0,  0],\n",
       "       [ 2,  1, 18,  3, 17,  6,  6,  6, 12,  9, 10, 17,  5,  0,  0,  0,\n",
       "         0,  0,  0,  0,  0,  0],\n",
       "       [ 2, 18, 18, 11, 13,  5,  6,  6, 20, 14,  9, 18, 17,  5,  0,  0,\n",
       "         0,  0,  0,  0,  0,  0],\n",
       "       [ 2,  8, 18, 15,  6, 18, 16, 15,  1, 15, 10, 11,  5,  0,  0,  0,\n",
       "         0,  0,  0,  0,  0,  0],\n",
       "       [ 2,  1,  1, 13, 17, 16,  6, 17, 20,  9, 20,  8,  5,  0,  0,  0,\n",
       "         0,  0,  0,  0,  0,  0]])"
      ]
     },
     "execution_count": 18,
     "metadata": {},
     "output_type": "execute_result"
    }
   ],
   "source": [
    "Preprocessing.encode_tcr(adata=adata, \n",
    "                         airr_name='junction_aa', \n",
    "                         alpha_label_key='alpha_seq', \n",
    "                         alpha_length_key='alpha_len',\n",
    "                         beta_label_key='beta_seq', \n",
    "                         beta_length_key='beta_len')\n",
    "\n",
    "adata.obsm['beta_seq'][:5]"
   ]
  },
  {
   "cell_type": "markdown",
   "metadata": {},
   "source": [
    "### Adding conditional variables\n",
    "\n",
    "Conditioning your model partially removes the effect from a specified condition. We can add conditional variables for e.g. donor, to avoid batch effects over multiple samples."
   ]
  },
  {
   "cell_type": "code",
   "execution_count": 19,
   "metadata": {},
   "outputs": [
    {
     "data": {
      "text/plain": [
       "array([[1., 0.],\n",
       "       [1., 0.],\n",
       "       [1., 0.],\n",
       "       ...,\n",
       "       [0., 1.],\n",
       "       [0., 1.],\n",
       "       [0., 1.]])"
      ]
     },
     "execution_count": 19,
     "metadata": {},
     "output_type": "execute_result"
    }
   ],
   "source": [
    "Preprocessing.encode_conditional_var(adata, column_id='patient_id')\n",
    "adata.obsm['patient_id']"
   ]
  },
  {
   "cell_type": "markdown",
   "metadata": {},
   "source": [
    "### Creating training and validation splits\n",
    "\n",
    "The splitting improves the data spliting into training and validation sets by two properties:\n",
    "- Stratified splitting: balance a label of interest (normally a variable to be predicted, e.g. antigen specificity) so the label distribution is roughly the same in both sets.\n",
    "- Avoid training data leakage into validation: used for clonotypes, to ensure that each clonotype is observed only during training or validation."
   ]
  },
  {
   "cell_type": "code",
   "execution_count": null,
   "metadata": {},
   "outputs": [],
   "source": [
    "train, val = Preprocessing.stratified_group_shuffle_split(adata, stratify_col='full_clustering', group_col='clonotype', val_split=0.2, random_seed=42)\n",
    "\n",
    "adata.obs['set'] = 'train'\n",
    "adata.obs.loc[val.index, 'set'] = 'val'\n",
    "\n",
    "adata.obs.set.value_counts()"
   ]
  },
  {
   "cell_type": "markdown",
   "metadata": {},
   "source": [
    "Alternatively group splitting is available by itself with:"
   ]
  },
  {
   "cell_type": "code",
   "execution_count": null,
   "metadata": {},
   "outputs": [
    {
     "data": {
      "text/plain": [
       "set\n",
       "train    3384\n",
       "val       843\n",
       "Name: count, dtype: int64"
      ]
     },
     "execution_count": 19,
     "metadata": {},
     "output_type": "execute_result"
    }
   ],
   "source": [
    "gtrain, gval = Preprocessing.group_shuffle_split(adata, group_col='clonotype', val_split=0.2, random_seed=42)\n",
    "\n",
    "adata.obs['set'] = 'train'\n",
    "adata.obs.loc[gval.obs.index, 'set'] = 'val'\n",
    "\n",
    "adata.obs.set.value_counts()"
   ]
  },
  {
   "cell_type": "markdown",
   "metadata": {},
   "source": [
    "### Finish. You are all set and done to use mvTCR! Save your data!"
   ]
  },
  {
   "cell_type": "code",
   "execution_count": 20,
   "metadata": {},
   "outputs": [],
   "source": [
    "path_out = '../data/preprocessed/haniffa_test_new.h5ad'\n",
    "adata.write_h5ad(path_out, compression='gzip')"
   ]
  },
  {
   "cell_type": "markdown",
   "metadata": {},
   "source": [
    "### Conversion: AnnData <> MuData"
   ]
  },
  {
   "cell_type": "code",
   "execution_count": null,
   "metadata": {},
   "outputs": [],
   "source": [
    "#First lets generate a MuData object \n",
    "mudata = Preprocessing.adata_to_mudata(adata=adata, gex_id='gex', tcr_id='airr')\n",
    "mudata"
   ]
  },
  {
   "cell_type": "code",
   "execution_count": null,
   "metadata": {},
   "outputs": [],
   "source": [
    "#And lets change back to adata\n",
    "adata = Preprocessing.mudata_to_adata(adata=adata, gex_id='gex', tcr_id='airr')\n",
    "adata"
   ]
  },
  {
   "cell_type": "markdown",
   "metadata": {},
   "source": [
    "In order for mvTCR to work you need to have a adata obj with the gene expression in X, features in obs and tcr data in obsm (key: 'airr'). Refer to the 00_tutorial to see how we built a working dataset from scratch."
   ]
  }
 ],
 "metadata": {
  "kernelspec": {
   "display_name": "mvTCR",
   "language": "python",
   "name": "python3"
  },
  "language_info": {
   "codemirror_mode": {
    "name": "ipython",
    "version": 3
   },
   "file_extension": ".py",
   "mimetype": "text/x-python",
   "name": "python",
   "nbconvert_exporter": "python",
   "pygments_lexer": "ipython3",
   "version": "3.11.5"
  },
  "orig_nbformat": 4
 },
 "nbformat": 4,
 "nbformat_minor": 2
}
