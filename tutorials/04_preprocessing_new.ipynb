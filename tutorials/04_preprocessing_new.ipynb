{
 "cells": [
  {
   "cell_type": "markdown",
   "metadata": {},
   "source": [
    "# mvTCR Preprocessing Pipeline\n",
    "mvTCR uses a specific format to handle single-cell data, which is based on AnnData objects. If not otherwise stated, we follow the speficition from Scanpy [1] and Scirpy [2]. However, we need some additional information to utilize all functions of mvTCR. In this notebook, we will show how to add these to various places in the AnnData object.\n",
    "\n",
    "All experiments in our paper where conducted on Datasets:\n",
    "- after Quality Control (cell filtering, doublet detection, ...)\n",
    "- with normalized and log+1 transformed count data\n",
    "- added TCR information\n",
    "\n",
    "We will assume, that these steps have already been performed. For further reference, please see Luecken et al [3].\n",
    "\n",
    "If you know what you are doing: different normalization, log-stabilizing transformations, etc. can also be used, but need to be handled with care!\n",
    "\n",
    "\n",
    "[1] Wolf, F. A., Angerer, P. & Theis, F. J. Scanpy: large-scale single-cell gene expression data analysis. Genome biology 19, 1–5 (2018).\n",
    "\n",
    "[2] Sturm, G. et al. Scirpy: a scanpy extension for analyzing single-cell t-cell receptor-sequencing data. Bioinformatics 36, 4817–4818 (2020).\n",
    "\n",
    "[3] Luecken, M. D. & Theis, F. J. Current best practices in single-cell rna-seq analysis: a tutorial.\n",
    "Molecular systems biology 15, e8746 (2019)."
   ]
  },
  {
   "cell_type": "code",
   "execution_count": 1,
   "metadata": {},
   "outputs": [],
   "source": [
    "import sys\n",
    "sys.path.append('..')"
   ]
  },
  {
   "cell_type": "code",
   "execution_count": 2,
   "metadata": {},
   "outputs": [
    {
     "name": "stderr",
     "output_type": "stream",
     "text": [
      "c:\\Users\\Jan\\.conda\\envs\\mvtcr_preprocheck\\lib\\site-packages\\tqdm\\auto.py:21: TqdmWarning: IProgress not found. Please update jupyter and ipywidgets. See https://ipywidgets.readthedocs.io/en/stable/user_install.html\n",
      "  from .autonotebook import tqdm as notebook_tqdm\n"
     ]
    }
   ],
   "source": [
    "import scanpy as sc\n",
    "\n",
    "from tcr_embedding.utils_preprocessing import Preprocessing"
   ]
  },
  {
   "cell_type": "markdown",
   "metadata": {},
   "source": [
    "## All-in-one Pipeline\n",
    "\n",
    "This is the fast and easy way to preprocess your data. Simply load your data and call the Preprocessing.preprocessing_pipeline() function with the parameters of interest.\n",
    "This features (in order):\n",
    "- Normalization & log transformation checks (experimental)\n",
    "- \"Reasonable\" number of highly variable genes (500 < n < 5000)\n",
    "- Scirpy VDJ gene usage information\n",
    "- One-Hot encoding of conditional variables\n",
    "- Stratified-shuffle-splits (into train & val)\n",
    "\n"
   ]
  },
  {
   "cell_type": "code",
   "execution_count": 3,
   "metadata": {},
   "outputs": [],
   "source": [
    "path_data = '../data/10x_CD8TC/v7_avidity.h5ad'\n",
    "adata = sc.read(path_data)"
   ]
  },
  {
   "cell_type": "code",
   "execution_count": 4,
   "metadata": {},
   "outputs": [
    {
     "name": "stderr",
     "output_type": "stream",
     "text": [
      "WARNING:root:Only highly-variable genes found in adata. Make sure they are properly normalized before proceeding!\n"
     ]
    },
    {
     "name": "stderr",
     "output_type": "stream",
     "text": [
      "100%|██████████| 51605/51605 [01:02<00:00, 827.01it/s] \n",
      "100%|██████████| 40/40 [00:00<00:00, 58.71it/s]\n"
     ]
    }
   ],
   "source": [
    "Preprocessing.preprocessing_pipeline(adata, \n",
    "                                     clonotype_key_added='clonotype', \n",
    "                                     column_cdr3a='IR_VJ_1_junction_aa', \n",
    "                                     column_cdr3b='IR_VDJ_1_junction_aa',\n",
    "                                     cond_vars=['donor'],\n",
    "                                     stratify_col='binding_name', \n",
    "                                     group_col='clonotype', \n",
    "                                     val_split=0.2)"
   ]
  },
  {
   "cell_type": "markdown",
   "metadata": {},
   "source": [
    "# Piece by Piece Preprocessing\n",
    "\n",
    "All the features inside the pipeline can be executed seperately as well, to perform a step-by-setp preprocessing or only specific methods.\n",
    "\n",
    "Let's begin by loading our adata object again."
   ]
  },
  {
   "cell_type": "code",
   "execution_count": 5,
   "metadata": {},
   "outputs": [],
   "source": [
    "path_data = '../data/10x_CD8TC/v7_avidity.h5ad'\n",
    "adata = sc.read(path_data)"
   ]
  },
  {
   "cell_type": "code",
   "execution_count": 6,
   "metadata": {},
   "outputs": [
    {
     "data": {
      "text/html": [
       "<div>\n",
       "<style scoped>\n",
       "    .dataframe tbody tr th:only-of-type {\n",
       "        vertical-align: middle;\n",
       "    }\n",
       "\n",
       "    .dataframe tbody tr th {\n",
       "        vertical-align: top;\n",
       "    }\n",
       "\n",
       "    .dataframe thead th {\n",
       "        text-align: right;\n",
       "    }\n",
       "</style>\n",
       "<table border=\"1\" class=\"dataframe\">\n",
       "  <thead>\n",
       "    <tr style=\"text-align: right;\">\n",
       "      <th></th>\n",
       "      <th>is_cell</th>\n",
       "      <th>high_confidence</th>\n",
       "      <th>multi_chain</th>\n",
       "      <th>extra_chains</th>\n",
       "      <th>IR_VJ_1_c_call</th>\n",
       "      <th>IR_VJ_2_c_call</th>\n",
       "      <th>IR_VDJ_1_c_call</th>\n",
       "      <th>IR_VDJ_2_c_call</th>\n",
       "      <th>IR_VJ_1_consensus_count</th>\n",
       "      <th>IR_VJ_2_consensus_count</th>\n",
       "      <th>...</th>\n",
       "      <th>seq_len</th>\n",
       "      <th>has_binding</th>\n",
       "      <th>binding_label</th>\n",
       "      <th>binding_name</th>\n",
       "      <th>donor+binding</th>\n",
       "      <th>set</th>\n",
       "      <th>high_count_binding_name</th>\n",
       "      <th>high_count_binding_label</th>\n",
       "      <th>alpha_len</th>\n",
       "      <th>beta_len</th>\n",
       "    </tr>\n",
       "  </thead>\n",
       "  <tbody>\n",
       "    <tr>\n",
       "      <th>AAACGGGAGAAGATTC-1-donor_1</th>\n",
       "      <td>True</td>\n",
       "      <td>True</td>\n",
       "      <td>False</td>\n",
       "      <td>[{\"c_call\": \"TRBC2\", \"consensus_count\": 3996, ...</td>\n",
       "      <td>TRAC</td>\n",
       "      <td>NaN</td>\n",
       "      <td>TRBC1</td>\n",
       "      <td>NaN</td>\n",
       "      <td>36437.0</td>\n",
       "      <td>NaN</td>\n",
       "      <td>...</td>\n",
       "      <td>30</td>\n",
       "      <td>True</td>\n",
       "      <td>29</td>\n",
       "      <td>A0301_KLGGALQAK_IE-1_CMV_binder</td>\n",
       "      <td>donor_1_A0301_KLGGALQAK_IE-1_CMV_binder</td>\n",
       "      <td>test</td>\n",
       "      <td>A0301_KLGGALQAK_IE-1_CMV_binder</td>\n",
       "      <td>3</td>\n",
       "      <td>12</td>\n",
       "      <td>15</td>\n",
       "    </tr>\n",
       "    <tr>\n",
       "      <th>AAACGGGTCGGACAAG-1-donor_1</th>\n",
       "      <td>True</td>\n",
       "      <td>True</td>\n",
       "      <td>False</td>\n",
       "      <td>[]</td>\n",
       "      <td>TRAC</td>\n",
       "      <td>NaN</td>\n",
       "      <td>TRBC2</td>\n",
       "      <td>NaN</td>\n",
       "      <td>18565.0</td>\n",
       "      <td>NaN</td>\n",
       "      <td>...</td>\n",
       "      <td>32</td>\n",
       "      <td>False</td>\n",
       "      <td>-1</td>\n",
       "      <td>no_data</td>\n",
       "      <td>donor_1_no_data</td>\n",
       "      <td>train</td>\n",
       "      <td>no_data</td>\n",
       "      <td>8</td>\n",
       "      <td>14</td>\n",
       "      <td>15</td>\n",
       "    </tr>\n",
       "    <tr>\n",
       "      <th>AAAGATGGTACAGACG-1-donor_1</th>\n",
       "      <td>True</td>\n",
       "      <td>True</td>\n",
       "      <td>False</td>\n",
       "      <td>[{\"c_call\": \"TRAC\", \"consensus_count\": 18416, ...</td>\n",
       "      <td>TRAC</td>\n",
       "      <td>NaN</td>\n",
       "      <td>TRBC2</td>\n",
       "      <td>NaN</td>\n",
       "      <td>31549.0</td>\n",
       "      <td>NaN</td>\n",
       "      <td>...</td>\n",
       "      <td>32</td>\n",
       "      <td>False</td>\n",
       "      <td>-1</td>\n",
       "      <td>no_data</td>\n",
       "      <td>donor_1_no_data</td>\n",
       "      <td>train</td>\n",
       "      <td>no_data</td>\n",
       "      <td>8</td>\n",
       "      <td>12</td>\n",
       "      <td>17</td>\n",
       "    </tr>\n",
       "    <tr>\n",
       "      <th>AAAGTAGAGACGCTTT-1-donor_1</th>\n",
       "      <td>True</td>\n",
       "      <td>True</td>\n",
       "      <td>False</td>\n",
       "      <td>[]</td>\n",
       "      <td>TRAC</td>\n",
       "      <td>NaN</td>\n",
       "      <td>TRBC2</td>\n",
       "      <td>NaN</td>\n",
       "      <td>34680.0</td>\n",
       "      <td>NaN</td>\n",
       "      <td>...</td>\n",
       "      <td>33</td>\n",
       "      <td>False</td>\n",
       "      <td>-1</td>\n",
       "      <td>no_data</td>\n",
       "      <td>donor_1_no_data</td>\n",
       "      <td>train</td>\n",
       "      <td>no_data</td>\n",
       "      <td>8</td>\n",
       "      <td>13</td>\n",
       "      <td>17</td>\n",
       "    </tr>\n",
       "    <tr>\n",
       "      <th>AAAGTAGAGCGCTTAT-1-donor_1</th>\n",
       "      <td>True</td>\n",
       "      <td>True</td>\n",
       "      <td>False</td>\n",
       "      <td>[]</td>\n",
       "      <td>TRAC</td>\n",
       "      <td>TRAC</td>\n",
       "      <td>TRBC2</td>\n",
       "      <td>NaN</td>\n",
       "      <td>30686.0</td>\n",
       "      <td>23335.0</td>\n",
       "      <td>...</td>\n",
       "      <td>30</td>\n",
       "      <td>False</td>\n",
       "      <td>-1</td>\n",
       "      <td>no_data</td>\n",
       "      <td>donor_1_no_data</td>\n",
       "      <td>val</td>\n",
       "      <td>no_data</td>\n",
       "      <td>8</td>\n",
       "      <td>15</td>\n",
       "      <td>12</td>\n",
       "    </tr>\n",
       "  </tbody>\n",
       "</table>\n",
       "<p>5 rows × 181 columns</p>\n",
       "</div>"
      ],
      "text/plain": [
       "                           is_cell high_confidence multi_chain  \\\n",
       "AAACGGGAGAAGATTC-1-donor_1    True            True       False   \n",
       "AAACGGGTCGGACAAG-1-donor_1    True            True       False   \n",
       "AAAGATGGTACAGACG-1-donor_1    True            True       False   \n",
       "AAAGTAGAGACGCTTT-1-donor_1    True            True       False   \n",
       "AAAGTAGAGCGCTTAT-1-donor_1    True            True       False   \n",
       "\n",
       "                                                                 extra_chains  \\\n",
       "AAACGGGAGAAGATTC-1-donor_1  [{\"c_call\": \"TRBC2\", \"consensus_count\": 3996, ...   \n",
       "AAACGGGTCGGACAAG-1-donor_1                                                 []   \n",
       "AAAGATGGTACAGACG-1-donor_1  [{\"c_call\": \"TRAC\", \"consensus_count\": 18416, ...   \n",
       "AAAGTAGAGACGCTTT-1-donor_1                                                 []   \n",
       "AAAGTAGAGCGCTTAT-1-donor_1                                                 []   \n",
       "\n",
       "                           IR_VJ_1_c_call IR_VJ_2_c_call IR_VDJ_1_c_call  \\\n",
       "AAACGGGAGAAGATTC-1-donor_1           TRAC            NaN           TRBC1   \n",
       "AAACGGGTCGGACAAG-1-donor_1           TRAC            NaN           TRBC2   \n",
       "AAAGATGGTACAGACG-1-donor_1           TRAC            NaN           TRBC2   \n",
       "AAAGTAGAGACGCTTT-1-donor_1           TRAC            NaN           TRBC2   \n",
       "AAAGTAGAGCGCTTAT-1-donor_1           TRAC           TRAC           TRBC2   \n",
       "\n",
       "                           IR_VDJ_2_c_call  IR_VJ_1_consensus_count  \\\n",
       "AAACGGGAGAAGATTC-1-donor_1             NaN                  36437.0   \n",
       "AAACGGGTCGGACAAG-1-donor_1             NaN                  18565.0   \n",
       "AAAGATGGTACAGACG-1-donor_1             NaN                  31549.0   \n",
       "AAAGTAGAGACGCTTT-1-donor_1             NaN                  34680.0   \n",
       "AAAGTAGAGCGCTTAT-1-donor_1             NaN                  30686.0   \n",
       "\n",
       "                            IR_VJ_2_consensus_count  ...  seq_len  \\\n",
       "AAACGGGAGAAGATTC-1-donor_1                      NaN  ...       30   \n",
       "AAACGGGTCGGACAAG-1-donor_1                      NaN  ...       32   \n",
       "AAAGATGGTACAGACG-1-donor_1                      NaN  ...       32   \n",
       "AAAGTAGAGACGCTTT-1-donor_1                      NaN  ...       33   \n",
       "AAAGTAGAGCGCTTAT-1-donor_1                  23335.0  ...       30   \n",
       "\n",
       "                            has_binding binding_label  \\\n",
       "AAACGGGAGAAGATTC-1-donor_1         True            29   \n",
       "AAACGGGTCGGACAAG-1-donor_1        False            -1   \n",
       "AAAGATGGTACAGACG-1-donor_1        False            -1   \n",
       "AAAGTAGAGACGCTTT-1-donor_1        False            -1   \n",
       "AAAGTAGAGCGCTTAT-1-donor_1        False            -1   \n",
       "\n",
       "                                               binding_name  \\\n",
       "AAACGGGAGAAGATTC-1-donor_1  A0301_KLGGALQAK_IE-1_CMV_binder   \n",
       "AAACGGGTCGGACAAG-1-donor_1                          no_data   \n",
       "AAAGATGGTACAGACG-1-donor_1                          no_data   \n",
       "AAAGTAGAGACGCTTT-1-donor_1                          no_data   \n",
       "AAAGTAGAGCGCTTAT-1-donor_1                          no_data   \n",
       "\n",
       "                                                      donor+binding    set  \\\n",
       "AAACGGGAGAAGATTC-1-donor_1  donor_1_A0301_KLGGALQAK_IE-1_CMV_binder   test   \n",
       "AAACGGGTCGGACAAG-1-donor_1                          donor_1_no_data  train   \n",
       "AAAGATGGTACAGACG-1-donor_1                          donor_1_no_data  train   \n",
       "AAAGTAGAGACGCTTT-1-donor_1                          donor_1_no_data  train   \n",
       "AAAGTAGAGCGCTTAT-1-donor_1                          donor_1_no_data    val   \n",
       "\n",
       "                                    high_count_binding_name  \\\n",
       "AAACGGGAGAAGATTC-1-donor_1  A0301_KLGGALQAK_IE-1_CMV_binder   \n",
       "AAACGGGTCGGACAAG-1-donor_1                          no_data   \n",
       "AAAGATGGTACAGACG-1-donor_1                          no_data   \n",
       "AAAGTAGAGACGCTTT-1-donor_1                          no_data   \n",
       "AAAGTAGAGCGCTTAT-1-donor_1                          no_data   \n",
       "\n",
       "                            high_count_binding_label  alpha_len  beta_len  \n",
       "AAACGGGAGAAGATTC-1-donor_1                         3         12        15  \n",
       "AAACGGGTCGGACAAG-1-donor_1                         8         14        15  \n",
       "AAAGATGGTACAGACG-1-donor_1                         8         12        17  \n",
       "AAAGTAGAGACGCTTT-1-donor_1                         8         13        17  \n",
       "AAAGTAGAGCGCTTAT-1-donor_1                         8         15        12  \n",
       "\n",
       "[5 rows x 181 columns]"
      ]
     },
     "execution_count": 6,
     "metadata": {},
     "output_type": "execute_result"
    }
   ],
   "source": [
    "adata.obs.head(5)"
   ]
  },
  {
   "cell_type": "markdown",
   "metadata": {},
   "source": [
    "### Checking if adata is in a mvTCR compatible shape"
   ]
  },
  {
   "cell_type": "code",
   "execution_count": 7,
   "metadata": {},
   "outputs": [
    {
     "name": "stderr",
     "output_type": "stream",
     "text": [
      "WARNING:root:Only highly-variable genes found in adata. Make sure they are properly normalized before proceeding!\n"
     ]
    },
    {
     "data": {
      "text/plain": [
       "True"
      ]
     },
     "execution_count": 7,
     "metadata": {},
     "output_type": "execute_result"
    }
   ],
   "source": [
    "Preprocessing.check_if_valid_adata(adata)"
   ]
  },
  {
   "cell_type": "markdown",
   "metadata": {},
   "source": [
    "### Encoding clonotypes with Scirpy\n",
    "\n",
    "For training the shared embedding, we advise oversampling rare clonotypes. This avoids the model overfitting to few selected TCR sequences from highly expanded clonotypes. Therefore, we need to add a clonotype label to adata.obs. Here, we define a unique clonotype via Scirpy as having exactly the same CDR3 sequence in TRA and TRB chains."
   ]
  },
  {
   "cell_type": "code",
   "execution_count": 8,
   "metadata": {},
   "outputs": [],
   "source": [
    "#lets make sure to remove possible clonotype annotation not performed by scirpy. This step can be skipped if there is no encoding in the current adata\n",
    "adata.obs.drop(columns='clonotype', inplace=True)"
   ]
  },
  {
   "cell_type": "code",
   "execution_count": 9,
   "metadata": {},
   "outputs": [
    {
     "name": "stderr",
     "output_type": "stream",
     "text": [
      "100%|██████████| 51605/51605 [00:55<00:00, 937.13it/s] \n"
     ]
    },
    {
     "data": {
      "text/plain": [
       "18943    5328\n",
       "41435    3837\n",
       "2235     3823\n",
       "29208    2977\n",
       "10       2210\n",
       "         ... \n",
       "26568       1\n",
       "27689       1\n",
       "22478       1\n",
       "10627       1\n",
       "12933       1\n",
       "Name: clonotype, Length: 51605, dtype: int64"
      ]
     },
     "execution_count": 9,
     "metadata": {},
     "output_type": "execute_result"
    }
   ],
   "source": [
    "Preprocessing.encode_clonotypes(adata, key_added='clonotype')\n",
    "\n",
    "adata.obs.clonotype.value_counts()"
   ]
  },
  {
   "cell_type": "markdown",
   "metadata": {},
   "source": [
    "### Adding TCR encoding\n",
    "\n",
    "Next, we encode the TCR sequence numerically to adata.obsm. Here, we need to provide the name of the column storing the CDR3a and CDR3b. Additionally, we need to specificy the padding paremter (which if set to None uses the maximal CDR3 sequence length as default). If you plan to add new data in the future via a pretrained model, you might want to add some safety margin."
   ]
  },
  {
   "cell_type": "code",
   "execution_count": 10,
   "metadata": {},
   "outputs": [],
   "source": [
    "Preprocessing.encode_tcr(adata, column_cdr3a='IR_VJ_1_junction_aa', column_cdr3b='IR_VDJ_1_junction_aa', alpha_label_col='alpha_seq', alpha_length_col='alpha_len', beta_label_col='beta_seq', beta_length_col='beta_len', pad=None)"
   ]
  },
  {
   "cell_type": "code",
   "execution_count": 11,
   "metadata": {},
   "outputs": [
    {
     "data": {
      "text/plain": [
       "array([[ 2,  1, 16, ...,  0,  0,  0],\n",
       "       [ 2,  1, 16, ...,  0,  0,  0],\n",
       "       [ 2, 16,  1, ...,  0,  0,  0],\n",
       "       ...,\n",
       "       [ 2,  1, 16, ...,  0,  0,  0],\n",
       "       [ 2, 16,  1, ...,  0,  0,  0],\n",
       "       [ 2,  1, 17, ...,  0,  0,  0]])"
      ]
     },
     "execution_count": 11,
     "metadata": {},
     "output_type": "execute_result"
    }
   ],
   "source": [
    "adata.obsm['beta_seq']"
   ]
  },
  {
   "cell_type": "markdown",
   "metadata": {},
   "source": [
    "### Adding conditional variables\n",
    "\n",
    "Conditioning your model partially removes the effect from a specified condition. We can add conditional variables for e.g. donor, to avoid batch effects over multiple samples."
   ]
  },
  {
   "cell_type": "code",
   "execution_count": 12,
   "metadata": {},
   "outputs": [],
   "source": [
    "Preprocessing.encode_conditional_var(adata, column_id='donor')"
   ]
  },
  {
   "cell_type": "code",
   "execution_count": 13,
   "metadata": {},
   "outputs": [
    {
     "data": {
      "text/plain": [
       "array([[1., 0., 0., 0.],\n",
       "       [1., 0., 0., 0.],\n",
       "       [1., 0., 0., 0.],\n",
       "       ...,\n",
       "       [0., 0., 0., 1.],\n",
       "       [0., 0., 0., 1.],\n",
       "       [0., 0., 0., 1.]])"
      ]
     },
     "execution_count": 13,
     "metadata": {},
     "output_type": "execute_result"
    }
   ],
   "source": [
    "adata.obsm['donor']"
   ]
  },
  {
   "cell_type": "markdown",
   "metadata": {},
   "source": [
    "### Creating training and validation splits\n",
    "\n",
    "The splitting tries to improve splitting by two properties:\n",
    "- Stratified splitting, so the label distribution is roughly the same in both sets, e.g. antigen specificity\n",
    "- Certain groups are only in one set, e.g. the same clonotypes are only in one set, so the model cannot peak into similar sample during training."
   ]
  },
  {
   "cell_type": "code",
   "execution_count": 14,
   "metadata": {},
   "outputs": [],
   "source": [
    "#remove previous splitting. Ignore if not splitting exists\n",
    "adata.obs.drop(columns=['set'], inplace=True)"
   ]
  },
  {
   "cell_type": "code",
   "execution_count": 15,
   "metadata": {},
   "outputs": [
    {
     "name": "stderr",
     "output_type": "stream",
     "text": [
      "100%|██████████| 40/40 [00:00<00:00, 57.64it/s]\n"
     ]
    }
   ],
   "source": [
    "train, val = Preprocessing.stratified_group_shuffle_split(adata.obs, stratify_col='binding_name', group_col='clonotype', val_split=0.2, random_seed=42)\n",
    "\n",
    "adata.obs['set'] = 'train'\n",
    "adata.obs.loc[val.index, 'set'] = 'val'"
   ]
  },
  {
   "cell_type": "code",
   "execution_count": 16,
   "metadata": {},
   "outputs": [
    {
     "data": {
      "text/plain": [
       "train    98220\n",
       "val      30367\n",
       "Name: set, dtype: int64"
      ]
     },
     "execution_count": 16,
     "metadata": {},
     "output_type": "execute_result"
    }
   ],
   "source": [
    "adata.obs.set.value_counts()"
   ]
  },
  {
   "cell_type": "markdown",
   "metadata": {},
   "source": [
    "### Finish. You are all set and done to use mvTCR! Save your data!"
   ]
  },
  {
   "cell_type": "code",
   "execution_count": 18,
   "metadata": {},
   "outputs": [],
   "source": [
    "path_out = '../data/preprocessed/tutorial.h5ad'\n",
    "adata.write_h5ad(path_out, compression='gzip')"
   ]
  }
 ],
 "metadata": {
  "kernelspec": {
   "display_name": "mvTCR",
   "language": "python",
   "name": "python3"
  },
  "language_info": {
   "codemirror_mode": {
    "name": "ipython",
    "version": 3
   },
   "file_extension": ".py",
   "mimetype": "text/x-python",
   "name": "python",
   "nbconvert_exporter": "python",
   "pygments_lexer": "ipython3",
   "version": "3.8.8"
  },
  "orig_nbformat": 4
 },
 "nbformat": 4,
 "nbformat_minor": 2
}
